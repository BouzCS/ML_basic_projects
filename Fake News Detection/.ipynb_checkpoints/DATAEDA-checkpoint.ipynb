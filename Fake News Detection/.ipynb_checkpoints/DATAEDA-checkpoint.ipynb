{
 "cells": [
  {
   "cell_type": "code",
   "execution_count": 131,
   "id": "0d426692-3f72-4ac2-9ed5-fb3588d8879f",
   "metadata": {},
   "outputs": [],
   "source": [
    "import pandas as pd\n",
    "import matplotlib.pyplot as plt\n",
    "import seaborn as sns\n",
    "import numpy as np\n",
    "import collections\n",
    "import re\n",
    "import nltk\n",
    "from scipy.stats import norm\n",
    "from sklearn.preprocessing import StandardScaler\n",
    "from scipy import stats\n",
    "from sklearn import feature_extraction,feature_selection\n",
    "from sklearn.feature_extraction.text import CountVectorizer\n",
    "from sklearn.feature_extraction.text import TfidfVectorizer\n",
    "from sklearn.linear_model import PassiveAggressiveClassifier\n",
    "from sklearn.metrics import accuracy_score, confusion_matrix\n",
    "from sklearn.model_selection import cross_val_score, train_test_split, GridSearchCV\n",
    "from sklearn import pipeline\n",
    "## for sentiment\n",
    "from textblob import TextBlob\n",
    "## for embedding types\n",
    "import spacy\n",
    "import warnings\n",
    "warnings.filterwarnings('ignore')\n",
    "%matplotlib inline"
   ]
  },
  {
   "cell_type": "code",
   "execution_count": 132,
   "id": "d62bc1ca-5207-4219-8138-02d3f5303ca0",
   "metadata": {},
   "outputs": [],
   "source": [
    "df = pd.read_csv('news.csv')"
   ]
  },
  {
   "cell_type": "code",
   "execution_count": 133,
   "id": "2c3905ed-0bd9-42be-8a68-7452416647c1",
   "metadata": {},
   "outputs": [
    {
     "data": {
      "text/plain": [
       "(6335, 4)"
      ]
     },
     "execution_count": 133,
     "metadata": {},
     "output_type": "execute_result"
    }
   ],
   "source": [
    "df.shape"
   ]
  },
  {
   "cell_type": "code",
   "execution_count": 134,
   "id": "6f160f2a-1a0d-4cf9-bf9e-04fb7eaa185c",
   "metadata": {},
   "outputs": [
    {
     "data": {
      "text/html": [
       "<div>\n",
       "<style scoped>\n",
       "    .dataframe tbody tr th:only-of-type {\n",
       "        vertical-align: middle;\n",
       "    }\n",
       "\n",
       "    .dataframe tbody tr th {\n",
       "        vertical-align: top;\n",
       "    }\n",
       "\n",
       "    .dataframe thead th {\n",
       "        text-align: right;\n",
       "    }\n",
       "</style>\n",
       "<table border=\"1\" class=\"dataframe\">\n",
       "  <thead>\n",
       "    <tr style=\"text-align: right;\">\n",
       "      <th></th>\n",
       "      <th>Unnamed: 0</th>\n",
       "      <th>title</th>\n",
       "      <th>text</th>\n",
       "      <th>label</th>\n",
       "    </tr>\n",
       "  </thead>\n",
       "  <tbody>\n",
       "    <tr>\n",
       "      <th>0</th>\n",
       "      <td>8476</td>\n",
       "      <td>You Can Smell Hillary’s Fear</td>\n",
       "      <td>Daniel Greenfield, a Shillman Journalism Fello...</td>\n",
       "      <td>FAKE</td>\n",
       "    </tr>\n",
       "    <tr>\n",
       "      <th>1</th>\n",
       "      <td>10294</td>\n",
       "      <td>Watch The Exact Moment Paul Ryan Committed Pol...</td>\n",
       "      <td>Google Pinterest Digg Linkedin Reddit Stumbleu...</td>\n",
       "      <td>FAKE</td>\n",
       "    </tr>\n",
       "    <tr>\n",
       "      <th>2</th>\n",
       "      <td>3608</td>\n",
       "      <td>Kerry to go to Paris in gesture of sympathy</td>\n",
       "      <td>U.S. Secretary of State John F. Kerry said Mon...</td>\n",
       "      <td>REAL</td>\n",
       "    </tr>\n",
       "    <tr>\n",
       "      <th>3</th>\n",
       "      <td>10142</td>\n",
       "      <td>Bernie supporters on Twitter erupt in anger ag...</td>\n",
       "      <td>— Kaydee King (@KaydeeKing) November 9, 2016 T...</td>\n",
       "      <td>FAKE</td>\n",
       "    </tr>\n",
       "    <tr>\n",
       "      <th>4</th>\n",
       "      <td>875</td>\n",
       "      <td>The Battle of New York: Why This Primary Matters</td>\n",
       "      <td>It's primary day in New York and front-runners...</td>\n",
       "      <td>REAL</td>\n",
       "    </tr>\n",
       "    <tr>\n",
       "      <th>5</th>\n",
       "      <td>6903</td>\n",
       "      <td>Tehran, USA</td>\n",
       "      <td>\\nI’m not an immigrant, but my grandparents ...</td>\n",
       "      <td>FAKE</td>\n",
       "    </tr>\n",
       "    <tr>\n",
       "      <th>6</th>\n",
       "      <td>7341</td>\n",
       "      <td>Girl Horrified At What She Watches Boyfriend D...</td>\n",
       "      <td>Share This Baylee Luciani (left), Screenshot o...</td>\n",
       "      <td>FAKE</td>\n",
       "    </tr>\n",
       "    <tr>\n",
       "      <th>7</th>\n",
       "      <td>95</td>\n",
       "      <td>‘Britain’s Schindler’ Dies at 106</td>\n",
       "      <td>A Czech stockbroker who saved more than 650 Je...</td>\n",
       "      <td>REAL</td>\n",
       "    </tr>\n",
       "    <tr>\n",
       "      <th>8</th>\n",
       "      <td>4869</td>\n",
       "      <td>Fact check: Trump and Clinton at the 'commande...</td>\n",
       "      <td>Hillary Clinton and Donald Trump made some ina...</td>\n",
       "      <td>REAL</td>\n",
       "    </tr>\n",
       "    <tr>\n",
       "      <th>9</th>\n",
       "      <td>2909</td>\n",
       "      <td>Iran reportedly makes new push for uranium con...</td>\n",
       "      <td>Iranian negotiators reportedly have made a las...</td>\n",
       "      <td>REAL</td>\n",
       "    </tr>\n",
       "  </tbody>\n",
       "</table>\n",
       "</div>"
      ],
      "text/plain": [
       "   Unnamed: 0                                              title  \\\n",
       "0        8476                       You Can Smell Hillary’s Fear   \n",
       "1       10294  Watch The Exact Moment Paul Ryan Committed Pol...   \n",
       "2        3608        Kerry to go to Paris in gesture of sympathy   \n",
       "3       10142  Bernie supporters on Twitter erupt in anger ag...   \n",
       "4         875   The Battle of New York: Why This Primary Matters   \n",
       "5        6903                                        Tehran, USA   \n",
       "6        7341  Girl Horrified At What She Watches Boyfriend D...   \n",
       "7          95                  ‘Britain’s Schindler’ Dies at 106   \n",
       "8        4869  Fact check: Trump and Clinton at the 'commande...   \n",
       "9        2909  Iran reportedly makes new push for uranium con...   \n",
       "\n",
       "                                                text label  \n",
       "0  Daniel Greenfield, a Shillman Journalism Fello...  FAKE  \n",
       "1  Google Pinterest Digg Linkedin Reddit Stumbleu...  FAKE  \n",
       "2  U.S. Secretary of State John F. Kerry said Mon...  REAL  \n",
       "3  — Kaydee King (@KaydeeKing) November 9, 2016 T...  FAKE  \n",
       "4  It's primary day in New York and front-runners...  REAL  \n",
       "5    \\nI’m not an immigrant, but my grandparents ...  FAKE  \n",
       "6  Share This Baylee Luciani (left), Screenshot o...  FAKE  \n",
       "7  A Czech stockbroker who saved more than 650 Je...  REAL  \n",
       "8  Hillary Clinton and Donald Trump made some ina...  REAL  \n",
       "9  Iranian negotiators reportedly have made a las...  REAL  "
      ]
     },
     "execution_count": 134,
     "metadata": {},
     "output_type": "execute_result"
    }
   ],
   "source": [
    "df.head(10)"
   ]
  },
  {
   "cell_type": "code",
   "execution_count": 135,
   "id": "e3070853-6c3d-4c9b-94d0-c714021d9bb6",
   "metadata": {},
   "outputs": [],
   "source": [
    "df.drop('Unnamed: 0',inplace=True,axis=1) "
   ]
  },
  {
   "cell_type": "code",
   "execution_count": 136,
   "id": "454737c4-d3e4-49f2-b174-868ea9d615a9",
   "metadata": {},
   "outputs": [],
   "source": [
    "# print(\"--- cleaning ---\")\n",
    "# txt = re.sub(r'[^\\w\\s]', '', str(df['title'][0]).lower().strip())\n",
    "# print(txt)\n",
    "# print(\"--- tokenization ---\")\n",
    "# txt = txt.split()\n",
    "# print(txt)\n",
    "# print(\"--- stemming ---\")\n",
    "# ps = nltk.stem.porter.PorterStemmer()\n",
    "# print([ps.stem(word) for word in txt])print(\"--- lemmatisation ---\")\n",
    "# lem = nltk.stem.wordnet.WordNetLemmatizer()\n",
    "# print([lem.lemmatize(word) for word in txt])"
   ]
  },
  {
   "cell_type": "code",
   "execution_count": 137,
   "id": "d4ab6df9-ea80-418c-8afe-e82b879b85a6",
   "metadata": {},
   "outputs": [],
   "source": [
    "'''\n",
    "Preprocess a string.\n",
    ":parameter\n",
    "    :param text: string - name of column containing text\n",
    "    :param lst_stopwords: list - list of stopwords to remove\n",
    "    :param flg_stemm: bool - whether stemming is to be applied\n",
    "    :param flg_lemm: bool - whether lemmitisation is to be applied\n",
    ":return\n",
    "    cleaned text\n",
    "'''\n",
    "def utils_preprocess_text(text, flg_stemm=False, flg_lemm=True, lst_stopwords=None):\n",
    "    ## clean (convert to lowercase and remove punctuations and characters and then strip)\n",
    "    text = re.sub(r'[^\\w\\s]', '', str(text).lower().strip())\n",
    "            \n",
    "    ## Tokenize (convert from string to list)\n",
    "    lst_text = text.split()    ## remove Stopwords\n",
    "    if lst_stopwords is not None:\n",
    "        lst_text = [word for word in lst_text if word not in \n",
    "                    lst_stopwords]\n",
    "                \n",
    "    ## Stemming (remove -ing, -ly, ...)\n",
    "    if flg_stemm == True:\n",
    "        ps = nltk.stem.porter.PorterStemmer()\n",
    "        lst_text = [ps.stem(word) for word in lst_text]\n",
    "                \n",
    "    ## Lemmatisation (convert the word into root word)\n",
    "    if flg_lemm == True:\n",
    "        lem = nltk.stem.wordnet.WordNetLemmatizer()\n",
    "        lst_text = [lem.lemmatize(word) for word in lst_text]\n",
    "            \n",
    "    ## back to string from list\n",
    "    text = \" \".join(lst_text)\n",
    "    return text"
   ]
  },
  {
   "cell_type": "code",
   "execution_count": 138,
   "id": "21025b4e-cd7b-4e2f-a436-abb64be0f839",
   "metadata": {},
   "outputs": [
    {
     "name": "stderr",
     "output_type": "stream",
     "text": [
      "[nltk_data] Downloading package wordnet to\n",
      "[nltk_data]     C:\\Users\\Dragox.RS\\AppData\\Roaming\\nltk_data...\n",
      "[nltk_data]   Package wordnet is already up-to-date!\n"
     ]
    },
    {
     "data": {
      "text/plain": [
       "True"
      ]
     },
     "execution_count": 138,
     "metadata": {},
     "output_type": "execute_result"
    }
   ],
   "source": [
    "nltk.download('wordnet')"
   ]
  },
  {
   "cell_type": "code",
   "execution_count": 139,
   "id": "f7cd5954-091d-4f49-a1c5-6ed13e7ab6bd",
   "metadata": {},
   "outputs": [
    {
     "name": "stderr",
     "output_type": "stream",
     "text": [
      "[nltk_data] Downloading package stopwords to\n",
      "[nltk_data]     C:\\Users\\Dragox.RS\\AppData\\Roaming\\nltk_data...\n",
      "[nltk_data]   Package stopwords is already up-to-date!\n"
     ]
    },
    {
     "data": {
      "text/plain": [
       "True"
      ]
     },
     "execution_count": 139,
     "metadata": {},
     "output_type": "execute_result"
    }
   ],
   "source": [
    "nltk.download('stopwords')"
   ]
  },
  {
   "cell_type": "code",
   "execution_count": 140,
   "id": "cb0fa1c4-2989-4deb-a4fa-4900e5b64754",
   "metadata": {},
   "outputs": [],
   "source": [
    "#Feature_Eng\n",
    "df['title'] = df['title'].apply(lambda x:  utils_preprocess_text(x))\n",
    "\n",
    "df['text'] = df['text'].apply(lambda x:  utils_preprocess_text(x))\n",
    "\n",
    "#0=FAKE 1=REAL\n",
    "df['label'] = df['label'].apply(lambda x:   x.replace('FAKE','0'))\n",
    "df['label'] = df['label'].apply(lambda x:   x.replace('REAL','1'))"
   ]
  },
  {
   "cell_type": "code",
   "execution_count": 141,
   "id": "c2886160-49ff-4b3f-8610-5f8df50a864c",
   "metadata": {},
   "outputs": [],
   "source": [
    "df['label'] = pd.to_numeric(df['label'])"
   ]
  },
  {
   "cell_type": "code",
   "execution_count": 142,
   "id": "0b70851a-8226-4db7-b74e-4acd7939e715",
   "metadata": {},
   "outputs": [
    {
     "data": {
      "text/html": [
       "<div>\n",
       "<style scoped>\n",
       "    .dataframe tbody tr th:only-of-type {\n",
       "        vertical-align: middle;\n",
       "    }\n",
       "\n",
       "    .dataframe tbody tr th {\n",
       "        vertical-align: top;\n",
       "    }\n",
       "\n",
       "    .dataframe thead th {\n",
       "        text-align: right;\n",
       "    }\n",
       "</style>\n",
       "<table border=\"1\" class=\"dataframe\">\n",
       "  <thead>\n",
       "    <tr style=\"text-align: right;\">\n",
       "      <th></th>\n",
       "      <th>title</th>\n",
       "      <th>text</th>\n",
       "      <th>label</th>\n",
       "    </tr>\n",
       "  </thead>\n",
       "  <tbody>\n",
       "    <tr>\n",
       "      <th>0</th>\n",
       "      <td>you can smell hillary fear</td>\n",
       "      <td>daniel greenfield a shillman journalism fellow...</td>\n",
       "      <td>0</td>\n",
       "    </tr>\n",
       "    <tr>\n",
       "      <th>1</th>\n",
       "      <td>watch the exact moment paul ryan committed pol...</td>\n",
       "      <td>google pinterest digg linkedin reddit stumbleu...</td>\n",
       "      <td>0</td>\n",
       "    </tr>\n",
       "    <tr>\n",
       "      <th>2</th>\n",
       "      <td>kerry to go to paris in gesture of sympathy</td>\n",
       "      <td>u secretary of state john f kerry said monday ...</td>\n",
       "      <td>1</td>\n",
       "    </tr>\n",
       "    <tr>\n",
       "      <th>3</th>\n",
       "      <td>bernie supporter on twitter erupt in anger aga...</td>\n",
       "      <td>kaydee king kaydeeking november 9 2016 the les...</td>\n",
       "      <td>0</td>\n",
       "    </tr>\n",
       "    <tr>\n",
       "      <th>4</th>\n",
       "      <td>the battle of new york why this primary matter</td>\n",
       "      <td>it primary day in new york and frontrunners hi...</td>\n",
       "      <td>1</td>\n",
       "    </tr>\n",
       "  </tbody>\n",
       "</table>\n",
       "</div>"
      ],
      "text/plain": [
       "                                               title  \\\n",
       "0                         you can smell hillary fear   \n",
       "1  watch the exact moment paul ryan committed pol...   \n",
       "2        kerry to go to paris in gesture of sympathy   \n",
       "3  bernie supporter on twitter erupt in anger aga...   \n",
       "4     the battle of new york why this primary matter   \n",
       "\n",
       "                                                text  label  \n",
       "0  daniel greenfield a shillman journalism fellow...      0  \n",
       "1  google pinterest digg linkedin reddit stumbleu...      0  \n",
       "2  u secretary of state john f kerry said monday ...      1  \n",
       "3  kaydee king kaydeeking november 9 2016 the les...      0  \n",
       "4  it primary day in new york and frontrunners hi...      1  "
      ]
     },
     "execution_count": 142,
     "metadata": {},
     "output_type": "execute_result"
    }
   ],
   "source": [
    "df.head()"
   ]
  },
  {
   "cell_type": "code",
   "execution_count": 143,
   "id": "e5b40425-e56c-4aa3-8233-ac1a1a81ce92",
   "metadata": {},
   "outputs": [
    {
     "data": {
      "text/plain": [
       "title    object\n",
       "text     object\n",
       "label     int64\n",
       "dtype: object"
      ]
     },
     "execution_count": 143,
     "metadata": {},
     "output_type": "execute_result"
    }
   ],
   "source": [
    "df.dtypes"
   ]
  },
  {
   "cell_type": "code",
   "execution_count": 144,
   "id": "8abb00f2-6a2a-4282-a2fc-5f9c5cbdf488",
   "metadata": {},
   "outputs": [
    {
     "data": {
      "text/plain": [
       "count    6335.000000\n",
       "mean        0.500552\n",
       "std         0.500039\n",
       "min         0.000000\n",
       "25%         0.000000\n",
       "50%         1.000000\n",
       "75%         1.000000\n",
       "max         1.000000\n",
       "Name: label, dtype: float64"
      ]
     },
     "execution_count": 144,
     "metadata": {},
     "output_type": "execute_result"
    }
   ],
   "source": [
    "df['label'].describe()"
   ]
  },
  {
   "cell_type": "code",
   "execution_count": 145,
   "id": "d23aeb95-7c32-43a7-807c-eeac6cfbd6c0",
   "metadata": {},
   "outputs": [],
   "source": [
    "#word_count_column\n",
    "df['word_count'] = df[\"text\"].apply(lambda x: len(str(x).split(\" \")))\n",
    "\n",
    "#char_count_column\n",
    "df['char_count'] = df[\"text\"].apply(lambda x: sum(len(word) for word in str(x).split(\" \")))\n",
    "\n",
    "#avg_word_column\n",
    "df['avg_word'] = df['char_count'] / df['word_count']"
   ]
  },
  {
   "cell_type": "code",
   "execution_count": 146,
   "id": "34c513a2-385b-4620-b406-297c65fbf016",
   "metadata": {},
   "outputs": [
    {
     "data": {
      "text/plain": [
       "title         0\n",
       "text          0\n",
       "label         0\n",
       "word_count    0\n",
       "char_count    0\n",
       "avg_word      0\n",
       "dtype: int64"
      ]
     },
     "execution_count": 146,
     "metadata": {},
     "output_type": "execute_result"
    }
   ],
   "source": [
    "df.loc[lambda df: df['word_count'] == 0].count()"
   ]
  },
  {
   "cell_type": "code",
   "execution_count": 147,
   "id": "9458caff-0d6e-4c05-b7ed-9fcff83aaea7",
   "metadata": {},
   "outputs": [],
   "source": [
    "df= df[df['word_count'] != 0]"
   ]
  },
  {
   "cell_type": "code",
   "execution_count": 148,
   "id": "65c9397e-fd77-4835-9548-d08361f83ddb",
   "metadata": {},
   "outputs": [
    {
     "data": {
      "text/plain": [
       "title         0\n",
       "text          0\n",
       "label         0\n",
       "word_count    0\n",
       "char_count    0\n",
       "avg_word      0\n",
       "dtype: int64"
      ]
     },
     "execution_count": 148,
     "metadata": {},
     "output_type": "execute_result"
    }
   ],
   "source": [
    "df.loc[lambda df: df['word_count'] == 0].count()"
   ]
  },
  {
   "cell_type": "code",
   "execution_count": 149,
   "id": "596fdeb7-da15-44c2-bdab-f27f3e0db199",
   "metadata": {},
   "outputs": [
    {
     "data": {
      "text/html": [
       "<div>\n",
       "<style scoped>\n",
       "    .dataframe tbody tr th:only-of-type {\n",
       "        vertical-align: middle;\n",
       "    }\n",
       "\n",
       "    .dataframe tbody tr th {\n",
       "        vertical-align: top;\n",
       "    }\n",
       "\n",
       "    .dataframe thead th {\n",
       "        text-align: right;\n",
       "    }\n",
       "</style>\n",
       "<table border=\"1\" class=\"dataframe\">\n",
       "  <thead>\n",
       "    <tr style=\"text-align: right;\">\n",
       "      <th></th>\n",
       "      <th>title</th>\n",
       "      <th>text</th>\n",
       "      <th>label</th>\n",
       "      <th>word_count</th>\n",
       "      <th>char_count</th>\n",
       "      <th>avg_word</th>\n",
       "    </tr>\n",
       "  </thead>\n",
       "  <tbody>\n",
       "    <tr>\n",
       "      <th>0</th>\n",
       "      <td>you can smell hillary fear</td>\n",
       "      <td>daniel greenfield a shillman journalism fellow...</td>\n",
       "      <td>0</td>\n",
       "      <td>1296</td>\n",
       "      <td>5929</td>\n",
       "      <td>4.574846</td>\n",
       "    </tr>\n",
       "    <tr>\n",
       "      <th>1</th>\n",
       "      <td>watch the exact moment paul ryan committed pol...</td>\n",
       "      <td>google pinterest digg linkedin reddit stumbleu...</td>\n",
       "      <td>0</td>\n",
       "      <td>441</td>\n",
       "      <td>2087</td>\n",
       "      <td>4.732426</td>\n",
       "    </tr>\n",
       "    <tr>\n",
       "      <th>2</th>\n",
       "      <td>kerry to go to paris in gesture of sympathy</td>\n",
       "      <td>u secretary of state john f kerry said monday ...</td>\n",
       "      <td>1</td>\n",
       "      <td>431</td>\n",
       "      <td>2005</td>\n",
       "      <td>4.651972</td>\n",
       "    </tr>\n",
       "    <tr>\n",
       "      <th>3</th>\n",
       "      <td>bernie supporter on twitter erupt in anger aga...</td>\n",
       "      <td>kaydee king kaydeeking november 9 2016 the les...</td>\n",
       "      <td>0</td>\n",
       "      <td>399</td>\n",
       "      <td>2106</td>\n",
       "      <td>5.278195</td>\n",
       "    </tr>\n",
       "    <tr>\n",
       "      <th>4</th>\n",
       "      <td>the battle of new york why this primary matter</td>\n",
       "      <td>it primary day in new york and frontrunners hi...</td>\n",
       "      <td>1</td>\n",
       "      <td>317</td>\n",
       "      <td>1410</td>\n",
       "      <td>4.447950</td>\n",
       "    </tr>\n",
       "  </tbody>\n",
       "</table>\n",
       "</div>"
      ],
      "text/plain": [
       "                                               title  \\\n",
       "0                         you can smell hillary fear   \n",
       "1  watch the exact moment paul ryan committed pol...   \n",
       "2        kerry to go to paris in gesture of sympathy   \n",
       "3  bernie supporter on twitter erupt in anger aga...   \n",
       "4     the battle of new york why this primary matter   \n",
       "\n",
       "                                                text  label  word_count  \\\n",
       "0  daniel greenfield a shillman journalism fellow...      0        1296   \n",
       "1  google pinterest digg linkedin reddit stumbleu...      0         441   \n",
       "2  u secretary of state john f kerry said monday ...      1         431   \n",
       "3  kaydee king kaydeeking november 9 2016 the les...      0         399   \n",
       "4  it primary day in new york and frontrunners hi...      1         317   \n",
       "\n",
       "   char_count  avg_word  \n",
       "0        5929  4.574846  \n",
       "1        2087  4.732426  \n",
       "2        2005  4.651972  \n",
       "3        2106  5.278195  \n",
       "4        1410  4.447950  "
      ]
     },
     "execution_count": 149,
     "metadata": {},
     "output_type": "execute_result"
    }
   ],
   "source": [
    "df.head()"
   ]
  },
  {
   "cell_type": "code",
   "execution_count": 150,
   "id": "51874664-ff33-4a98-bca4-d11f22d80288",
   "metadata": {},
   "outputs": [
    {
     "data": {
      "image/png": "[encoded data removed]",
      "text/plain": [
       "<Figure size 432x288 with 2 Axes>"
      ]
     },
     "metadata": {},
     "output_type": "display_data"
    }
   ],
   "source": [
    "k = 6 #number of variables for heatmap\n",
    "corrmat = df.corr()\n",
    "cols = corrmat.nlargest(k, 'label')['label'].index\n",
    "cm = np.corrcoef(df[cols].values.T)\n",
    "sns.set(font_scale=1.5)\n",
    "hm = sns.heatmap(cm, cbar=True, annot=True, square=True, fmt='.2f', annot_kws={'size': 11}, yticklabels=cols.values, xticklabels=cols.values)\n",
    "plt.show()"
   ]
  },
  {
   "cell_type": "code",
   "execution_count": 151,
   "id": "f1d76226-f020-4e08-960d-43f002ce1f63",
   "metadata": {},
   "outputs": [
    {
     "data": {
      "image/png": "[encoded data removed]",
      "text/plain": [
       "<Figure size 432x288 with 2 Axes>"
      ]
     },
     "metadata": {},
     "output_type": "display_data"
    }
   ],
   "source": [
    "x, y = \"char_count\", \"label\"\n",
    "fig, ax = plt.subplots(nrows=1, ncols=2)\n",
    "fig.suptitle(x, fontsize=12)\n",
    "for i in df[y].unique():\n",
    "    sns.distplot(df[df[y]==i][x], hist=True, kde=False, \n",
    "                 bins=10, hist_kws={\"alpha\":0.8}, \n",
    "                 axlabel=\"histogram\", ax=ax[0])\n",
    "    sns.distplot(df[df[y]==i][x], hist=False, kde=True, \n",
    "                 kde_kws={\"shade\":True}, axlabel=\"density\",   \n",
    "                 ax=ax[1])\n",
    "ax[0].grid(True)\n",
    "ax[0].legend(df[y].unique())\n",
    "ax[1].grid(True)\n",
    "plt.show()"
   ]
  },
  {
   "cell_type": "code",
   "execution_count": 152,
   "id": "822927df-ec14-4da6-996e-1b565a1fba58",
   "metadata": {},
   "outputs": [],
   "source": [
    "df[\"sentiment_text\"] = df['text'].apply(lambda x: \n",
    "                   TextBlob(x).sentiment.polarity)"
   ]
  },
  {
   "cell_type": "code",
   "execution_count": 153,
   "id": "1e1be0ba-bc04-4384-90f2-2979a61582db",
   "metadata": {},
   "outputs": [],
   "source": [
    "df[\"sentiment_title\"] = df['title'].apply(lambda x: \n",
    "                   TextBlob(x).sentiment.polarity)"
   ]
  },
  {
   "cell_type": "code",
   "execution_count": 154,
   "id": "a74f1e82-455b-4bdf-8afd-838ab589c233",
   "metadata": {},
   "outputs": [
    {
     "data": {
      "text/html": [
       "<div>\n",
       "<style scoped>\n",
       "    .dataframe tbody tr th:only-of-type {\n",
       "        vertical-align: middle;\n",
       "    }\n",
       "\n",
       "    .dataframe tbody tr th {\n",
       "        vertical-align: top;\n",
       "    }\n",
       "\n",
       "    .dataframe thead th {\n",
       "        text-align: right;\n",
       "    }\n",
       "</style>\n",
       "<table border=\"1\" class=\"dataframe\">\n",
       "  <thead>\n",
       "    <tr style=\"text-align: right;\">\n",
       "      <th></th>\n",
       "      <th>title</th>\n",
       "      <th>text</th>\n",
       "      <th>label</th>\n",
       "      <th>word_count</th>\n",
       "      <th>char_count</th>\n",
       "      <th>avg_word</th>\n",
       "      <th>sentiment_text</th>\n",
       "      <th>sentiment_title</th>\n",
       "    </tr>\n",
       "  </thead>\n",
       "  <tbody>\n",
       "    <tr>\n",
       "      <th>0</th>\n",
       "      <td>you can smell hillary fear</td>\n",
       "      <td>daniel greenfield a shillman journalism fellow...</td>\n",
       "      <td>0</td>\n",
       "      <td>1296</td>\n",
       "      <td>5929</td>\n",
       "      <td>4.574846</td>\n",
       "      <td>0.050697</td>\n",
       "      <td>0.000000</td>\n",
       "    </tr>\n",
       "    <tr>\n",
       "      <th>1</th>\n",
       "      <td>watch the exact moment paul ryan committed pol...</td>\n",
       "      <td>google pinterest digg linkedin reddit stumbleu...</td>\n",
       "      <td>0</td>\n",
       "      <td>441</td>\n",
       "      <td>2087</td>\n",
       "      <td>4.732426</td>\n",
       "      <td>0.027814</td>\n",
       "      <td>0.125000</td>\n",
       "    </tr>\n",
       "    <tr>\n",
       "      <th>2</th>\n",
       "      <td>kerry to go to paris in gesture of sympathy</td>\n",
       "      <td>u secretary of state john f kerry said monday ...</td>\n",
       "      <td>1</td>\n",
       "      <td>431</td>\n",
       "      <td>2005</td>\n",
       "      <td>4.651972</td>\n",
       "      <td>0.102574</td>\n",
       "      <td>0.000000</td>\n",
       "    </tr>\n",
       "    <tr>\n",
       "      <th>3</th>\n",
       "      <td>bernie supporter on twitter erupt in anger aga...</td>\n",
       "      <td>kaydee king kaydeeking november 9 2016 the les...</td>\n",
       "      <td>0</td>\n",
       "      <td>399</td>\n",
       "      <td>2106</td>\n",
       "      <td>5.278195</td>\n",
       "      <td>0.071158</td>\n",
       "      <td>-0.700000</td>\n",
       "    </tr>\n",
       "    <tr>\n",
       "      <th>4</th>\n",
       "      <td>the battle of new york why this primary matter</td>\n",
       "      <td>it primary day in new york and frontrunners hi...</td>\n",
       "      <td>1</td>\n",
       "      <td>317</td>\n",
       "      <td>1410</td>\n",
       "      <td>4.447950</td>\n",
       "      <td>0.248086</td>\n",
       "      <td>0.268182</td>\n",
       "    </tr>\n",
       "    <tr>\n",
       "      <th>5</th>\n",
       "      <td>tehran usa</td>\n",
       "      <td>im not an immigrant but my grandparent are mor...</td>\n",
       "      <td>0</td>\n",
       "      <td>2332</td>\n",
       "      <td>10353</td>\n",
       "      <td>4.439537</td>\n",
       "      <td>0.071187</td>\n",
       "      <td>0.000000</td>\n",
       "    </tr>\n",
       "    <tr>\n",
       "      <th>6</th>\n",
       "      <td>girl horrified at what she watch boyfriend do ...</td>\n",
       "      <td>share this baylee luciani left screenshot of w...</td>\n",
       "      <td>0</td>\n",
       "      <td>552</td>\n",
       "      <td>2479</td>\n",
       "      <td>4.490942</td>\n",
       "      <td>0.062398</td>\n",
       "      <td>0.000000</td>\n",
       "    </tr>\n",
       "    <tr>\n",
       "      <th>7</th>\n",
       "      <td>britain schindler dy at 106</td>\n",
       "      <td>a czech stockbroker who saved more than 650 je...</td>\n",
       "      <td>1</td>\n",
       "      <td>123</td>\n",
       "      <td>622</td>\n",
       "      <td>5.056911</td>\n",
       "      <td>0.034375</td>\n",
       "      <td>0.000000</td>\n",
       "    </tr>\n",
       "    <tr>\n",
       "      <th>8</th>\n",
       "      <td>fact check trump and clinton at the commanderi...</td>\n",
       "      <td>hillary clinton and donald trump made some ina...</td>\n",
       "      <td>1</td>\n",
       "      <td>2342</td>\n",
       "      <td>10753</td>\n",
       "      <td>4.591375</td>\n",
       "      <td>0.007563</td>\n",
       "      <td>0.000000</td>\n",
       "    </tr>\n",
       "    <tr>\n",
       "      <th>9</th>\n",
       "      <td>iran reportedly make new push for uranium conc...</td>\n",
       "      <td>iranian negotiator reportedly have made a last...</td>\n",
       "      <td>1</td>\n",
       "      <td>708</td>\n",
       "      <td>3371</td>\n",
       "      <td>4.761299</td>\n",
       "      <td>0.038974</td>\n",
       "      <td>0.136364</td>\n",
       "    </tr>\n",
       "  </tbody>\n",
       "</table>\n",
       "</div>"
      ],
      "text/plain": [
       "                                               title  \\\n",
       "0                         you can smell hillary fear   \n",
       "1  watch the exact moment paul ryan committed pol...   \n",
       "2        kerry to go to paris in gesture of sympathy   \n",
       "3  bernie supporter on twitter erupt in anger aga...   \n",
       "4     the battle of new york why this primary matter   \n",
       "5                                         tehran usa   \n",
       "6  girl horrified at what she watch boyfriend do ...   \n",
       "7                        britain schindler dy at 106   \n",
       "8  fact check trump and clinton at the commanderi...   \n",
       "9  iran reportedly make new push for uranium conc...   \n",
       "\n",
       "                                                text  label  word_count  \\\n",
       "0  daniel greenfield a shillman journalism fellow...      0        1296   \n",
       "1  google pinterest digg linkedin reddit stumbleu...      0         441   \n",
       "2  u secretary of state john f kerry said monday ...      1         431   \n",
       "3  kaydee king kaydeeking november 9 2016 the les...      0         399   \n",
       "4  it primary day in new york and frontrunners hi...      1         317   \n",
       "5  im not an immigrant but my grandparent are mor...      0        2332   \n",
       "6  share this baylee luciani left screenshot of w...      0         552   \n",
       "7  a czech stockbroker who saved more than 650 je...      1         123   \n",
       "8  hillary clinton and donald trump made some ina...      1        2342   \n",
       "9  iranian negotiator reportedly have made a last...      1         708   \n",
       "\n",
       "   char_count  avg_word  sentiment_text  sentiment_title  \n",
       "0        5929  4.574846        0.050697         0.000000  \n",
       "1        2087  4.732426        0.027814         0.125000  \n",
       "2        2005  4.651972        0.102574         0.000000  \n",
       "3        2106  5.278195        0.071158        -0.700000  \n",
       "4        1410  4.447950        0.248086         0.268182  \n",
       "5       10353  4.439537        0.071187         0.000000  \n",
       "6        2479  4.490942        0.062398         0.000000  \n",
       "7         622  5.056911        0.034375         0.000000  \n",
       "8       10753  4.591375        0.007563         0.000000  \n",
       "9        3371  4.761299        0.038974         0.136364  "
      ]
     },
     "execution_count": 154,
     "metadata": {},
     "output_type": "execute_result"
    }
   ],
   "source": [
    "df.head(10)"
   ]
  },
  {
   "cell_type": "code",
   "execution_count": 155,
   "id": "2a51e81f-ec6f-4b35-a566-2a037dd7fcf7",
   "metadata": {},
   "outputs": [
    {
     "data": {
      "image/png": "[encoded data removed]",
      "text/plain": [
       "<Figure size 432x288 with 2 Axes>"
      ]
     },
     "metadata": {},
     "output_type": "display_data"
    }
   ],
   "source": [
    "k = 8 #number of variables for heatmap\n",
    "corrmat = df.corr()\n",
    "cols = corrmat.nlargest(k, 'label')['label'].index\n",
    "cm = np.corrcoef(df[cols].values.T)\n",
    "sns.set(font_scale=1.5)\n",
    "hm = sns.heatmap(cm, cbar=True, annot=True, square=True, fmt='.2f', annot_kws={'size': 11}, yticklabels=cols.values, xticklabels=cols.values)\n",
    "plt.show()"
   ]
  },
  {
   "cell_type": "code",
   "execution_count": 156,
   "id": "9f33bf9a-3d10-4efb-b4c3-75505fc23915",
   "metadata": {},
   "outputs": [],
   "source": [
    "## call model\n",
    "ner = spacy.load(\"en_core_web_md\")"
   ]
  },
  {
   "cell_type": "raw",
   "id": "2e186c1b-b0c0-4c72-b7a8-f01da833ced4",
   "metadata": {},
   "source": [
    "## tag text and exctract tags into a list\n",
    "df[\"tags\"] = df[\"text\"].apply(lambda x: [(tag.text, tag.label_) \n",
    "                                for tag in ner(x).ents] )## utils function to count the element of a list\n",
    "def utils_lst_count(lst):\n",
    "    dic_counter = collections.Counter()\n",
    "    for x in lst:\n",
    "        dic_counter[x] += 1\n",
    "    dic_counter = collections.OrderedDict( \n",
    "                     sorted(dic_counter.items(), \n",
    "                     key=lambda x: x[1], reverse=True))\n",
    "    lst_count = [ {key:value} for key,value in dic_counter.items() ]\n",
    "    return lst_count\n",
    "## count tags\n",
    "df[\"tags\"] = df[\"tags\"].apply(lambda x: utils_lst_count(x))\n",
    "## utils function create new column for each tag category\n",
    "def utils_ner_features(lst_dics_tuples, tag):\n",
    "    if len(lst_dics_tuples) > 0:\n",
    "        tag_type = []\n",
    "        for dic_tuples in lst_dics_tuples:\n",
    "            for tuple in dic_tuples:\n",
    "                type, n = tuple[1], dic_tuples[tuple]\n",
    "                tag_type = tag_type + [type]*n\n",
    "                dic_counter = collections.Counter()\n",
    "                for x in tag_type:\n",
    "                    dic_counter[x] += 1\n",
    "        return dic_counter[tag]\n",
    "    else:\n",
    "        return 0\n",
    "## extract features\n",
    "tags_set = []\n",
    "for lst in df[\"tags\"].tolist():\n",
    "     for dic in lst:\n",
    "        for k in dic.keys():\n",
    "             tags_set.append(k[1])\n",
    "tags_set = list(set(tags_set))\n",
    "for feature in tags_set:\n",
    "     df[\"text_tags_\"+feature] = df[\"tags\"].apply(lambda x: \n",
    "                             utils_ner_features(x, feature))\n",
    "## print result\n",
    "df.head()"
   ]
  },
  {
   "cell_type": "raw",
   "id": "6b2c4cba-f512-4060-bba1-18bb537b06a8",
   "metadata": {},
   "source": [
    "## tag title and exctract tags into a list\n",
    "df[\"tags\"] = df[\"title\"].apply(lambda x: [(tag.text, tag.label_) \n",
    "                                for tag in ner(x).ents] )## utils function to count the element of a list\n",
    "def utils_lst_count(lst):\n",
    "    dic_counter = collections.Counter()\n",
    "    for x in lst:\n",
    "        dic_counter[x] += 1\n",
    "    dic_counter = collections.OrderedDict( \n",
    "                     sorted(dic_counter.items(), \n",
    "                     key=lambda x: x[1], reverse=True))\n",
    "    lst_count = [ {key:value} for key,value in dic_counter.items() ]\n",
    "    return lst_count\n",
    "## count tags\n",
    "df[\"tags\"] = df[\"tags\"].apply(lambda x: utils_lst_count(x))\n",
    "## utils function create new column for each tag category\n",
    "def utils_ner_features(lst_dics_tuples, tag):\n",
    "    if len(lst_dics_tuples) > 0:\n",
    "        tag_type = []\n",
    "        for dic_tuples in lst_dics_tuples:\n",
    "            for tuple in dic_tuples:\n",
    "                type, n = tuple[1], dic_tuples[tuple]\n",
    "                tag_type = tag_type + [type]*n\n",
    "                dic_counter = collections.Counter()\n",
    "                for x in tag_type:\n",
    "                    dic_counter[x] += 1\n",
    "        return dic_counter[tag]\n",
    "    else:\n",
    "        return 0\n",
    "## extract features\n",
    "tags_set = []\n",
    "for lst in df[\"tags\"].tolist():\n",
    "     for dic in lst:\n",
    "        for k in dic.keys():\n",
    "            tags_set.append(k[1])\n",
    "tags_set = list(set(tags_set))\n",
    "for feature in tags_set:\n",
    "     df[\"title_tags_\"+feature] = df[\"tags\"].apply(lambda x: \n",
    "                             utils_ner_features(x, feature))\n",
    "## print result\n",
    "df.head()"
   ]
  },
  {
   "cell_type": "code",
   "execution_count": 157,
   "id": "b09780a5-3eaf-4453-89fb-f4923c8132af",
   "metadata": {},
   "outputs": [
    {
     "data": {
      "image/png": "[encoded data removed]",
      "text/plain": [
       "<Figure size 864x648 with 2 Axes>"
      ]
     },
     "metadata": {},
     "output_type": "display_data"
    }
   ],
   "source": [
    "#correlation matrix\n",
    "corrmat = df.corr()\n",
    "f, ax = plt.subplots(figsize=(12, 9))\n",
    "sns.heatmap(corrmat, vmax=.8, square=True);"
   ]
  },
  {
   "cell_type": "code",
   "execution_count": 158,
   "id": "1e945da2-730c-404c-a330-85328f0ba03f",
   "metadata": {},
   "outputs": [],
   "source": [
    "df.to_csv('out.csv')"
   ]
  },
  {
   "cell_type": "code",
   "execution_count": 159,
   "id": "afd4dd5d-478b-41b4-9907-2b89557a8495",
   "metadata": {},
   "outputs": [],
   "source": [
    "## Count (classic BoW)\n",
    "vectorizer_text = feature_extraction.text.CountVectorizer(analyzer='word',max_features=10000, ngram_range=(1,2))\n",
    "\n",
    "## Tf-Idf (advanced variant of BoW)\n",
    "vectorizer_text = feature_extraction.text.TfidfVectorizer(analyzer='word',max_features=10000, ngram_range=(1,2))"
   ]
  },
  {
   "cell_type": "code",
   "execution_count": 160,
   "id": "5af78df5-98ee-4c34-a5b1-1f6467fa0280",
   "metadata": {},
   "outputs": [],
   "source": [
    "corpus = df[\"text\"]\n",
    "vectorizer_text.fit(corpus)\n",
    "X_train = vectorizer_text.transform(corpus)\n",
    "dic_vocabulary_text = vectorizer_text.vocabulary_"
   ]
  },
  {
   "cell_type": "code",
   "execution_count": 161,
   "id": "69f01729-e158-4e93-be82-ccd23108b3c2",
   "metadata": {},
   "outputs": [],
   "source": [
    "y = df[\"label\"]\n",
    "X_names = vectorizer_text.get_feature_names()\n",
    "p_value_limit = 0.95\n",
    "dtf_features = pd.DataFrame()\n",
    "for cat in np.unique(y):\n",
    "    chi2, p = feature_selection.chi2(X_train, y==cat)\n",
    "    dtf_features = dtf_features.append(pd.DataFrame(\n",
    "                   {\"feature\":X_names, \"score\":1-p, \"y\":cat}))\n",
    "    dtf_features = dtf_features.sort_values([\"y\",\"score\"], \n",
    "                    ascending=[True,False])\n",
    "    dtf_features = dtf_features[dtf_features[\"score\"]>p_value_limit]\n",
    "X_names = dtf_features[\"feature\"].unique().tolist()"
   ]
  },
  {
   "cell_type": "code",
   "execution_count": 162,
   "id": "70a5d9ba-722e-493c-9840-448b973a843a",
   "metadata": {},
   "outputs": [
    {
     "name": "stdout",
     "output_type": "stream",
     "text": [
      "# 0:\n",
      "  . selected features: 435\n",
      "  . top features: cruz,said,republican,sander,he,rubio,delegate,october,gop,bush\n",
      " \n",
      "# 1:\n",
      "  . selected features: 435\n",
      "  . top features: cruz,said,republican,sander,he,rubio,delegate,october,gop,bush\n",
      " \n"
     ]
    }
   ],
   "source": [
    "for cat in np.unique(y):\n",
    "    print(\"# {}:\".format(cat))\n",
    "    print(\"  . selected features:\",\n",
    "         len(dtf_features[dtf_features[\"y\"]==cat]))\n",
    "    print(\"  . top features:\", \",\".join(\n",
    "dtf_features[dtf_features[\"y\"]==cat][\"feature\"].values[:10]))\n",
    "    print(\" \")"
   ]
  },
  {
   "cell_type": "code",
   "execution_count": 163,
   "id": "165abad1-5440-46ad-9aa7-9ae7aa4682c5",
   "metadata": {},
   "outputs": [],
   "source": [
    "vectorizer_title = feature_extraction.text.TfidfVectorizer(vocabulary=X_names)\n",
    "vectorizer_title.fit(corpus)\n",
    "X_train = vectorizer_title.transform(corpus)\n",
    "dic_vocabulary_title = vectorizer_title.vocabulary_"
   ]
  },
  {
   "cell_type": "code",
   "execution_count": null,
   "id": "c00f81f4-9eba-4df2-b6fe-09b4da958fd5",
   "metadata": {},
   "outputs": [],
   "source": []
  },
  {
   "cell_type": "code",
   "execution_count": 164,
   "id": "3971da4d-21cb-4d1d-b27f-d1ef25c24917",
   "metadata": {},
   "outputs": [],
   "source": [
    "## Count (classic BoW)\n",
    "vectorizer_title = feature_extraction.text.CountVectorizer(analyzer='word',max_features=10000, ngram_range=(1,2))\n",
    "\n",
    "## Tf-Idf (advanced variant of BoW)\n",
    "vectorizer_title = feature_extraction.text.TfidfVectorizer(analyzer='word',max_features=10000, ngram_range=(1,2))"
   ]
  },
  {
   "cell_type": "code",
   "execution_count": 165,
   "id": "30c3cab5-6860-485f-9fb3-1188e0de4904",
   "metadata": {},
   "outputs": [],
   "source": [
    "corpus = df[\"title\"]\n",
    "vectorizer_title.fit(corpus)\n",
    "X_train = vectorizer_title.transform(corpus)\n",
    "dic_vocabulary_title = vectorizer_title.vocabulary_"
   ]
  },
  {
   "cell_type": "code",
   "execution_count": 166,
   "id": "05d182c0-6a52-4128-86d7-eb5ade5f8c5a",
   "metadata": {},
   "outputs": [],
   "source": [
    "y = df[\"label\"]\n",
    "X_names = vectorizer_title.get_feature_names()\n",
    "p_value_limit = 0.95\n",
    "dtf_features = pd.DataFrame()\n",
    "for cat in np.unique(y):\n",
    "    chi2, p = feature_selection.chi2(X_train, y==cat)\n",
    "    dtf_features = dtf_features.append(pd.DataFrame(\n",
    "                   {\"feature\":X_names, \"score\":1-p, \"y\":cat}))\n",
    "    dtf_features = dtf_features.sort_values([\"y\",\"score\"], \n",
    "                    ascending=[True,False])\n",
    "    dtf_features = dtf_features[dtf_features[\"score\"]>p_value_limit]\n",
    "X_names = dtf_features[\"feature\"].unique().tolist()"
   ]
  },
  {
   "cell_type": "code",
   "execution_count": 167,
   "id": "6ec6c505-b65c-4e37-aaa2-eb134f405588",
   "metadata": {},
   "outputs": [
    {
     "name": "stdout",
     "output_type": "stream",
     "text": [
      "# 0:\n",
      "  . selected features: 170\n",
      "  . top features: gop,sander,debate,cruz,republican,obama,comment on,iran,house,russia\n",
      " \n",
      "# 1:\n",
      "  . selected features: 170\n",
      "  . top features: gop,sander,debate,cruz,republican,obama,comment on,iran,house,russia\n",
      " \n"
     ]
    }
   ],
   "source": [
    "for cat in np.unique(y):\n",
    "    print(\"# {}:\".format(cat))\n",
    "    print(\"  . selected features:\",\n",
    "         len(dtf_features[dtf_features[\"y\"]==cat]))\n",
    "    print(\"  . top features:\", \",\".join(\n",
    "dtf_features[dtf_features[\"y\"]==cat][\"feature\"].values[:10]))\n",
    "    print(\" \")"
   ]
  },
  {
   "cell_type": "code",
   "execution_count": 168,
   "id": "cda1e54e-6ac9-4cfc-bbc0-be6ab51cccf5",
   "metadata": {},
   "outputs": [],
   "source": [
    "vectorizer_title = feature_extraction.text.TfidfVectorizer(vocabulary=X_names)\n",
    "vectorizer_title.fit(corpus)\n",
    "X_train = vectorizer_text.transform(corpus)\n",
    "dic_vocabulary = vectorizer_title.vocabulary_"
   ]
  },
  {
   "cell_type": "code",
   "execution_count": 169,
   "id": "18a34463-15f2-4d0f-882b-c241a2bfe7df",
   "metadata": {},
   "outputs": [
    {
     "ename": "KeyError",
     "evalue": "'tags'",
     "output_type": "error",
     "traceback": [
      "\u001b[1;31m---------------------------------------------------------------------------\u001b[0m",
      "\u001b[1;31mKeyError\u001b[0m                                  Traceback (most recent call last)",
      "\u001b[1;32m~\\anaconda3\\lib\\site-packages\\pandas\\core\\indexes\\base.py\u001b[0m in \u001b[0;36mget_loc\u001b[1;34m(self, key, method, tolerance)\u001b[0m\n\u001b[0;32m   3079\u001b[0m             \u001b[1;32mtry\u001b[0m\u001b[1;33m:\u001b[0m\u001b[1;33m\u001b[0m\u001b[1;33m\u001b[0m\u001b[0m\n\u001b[1;32m-> 3080\u001b[1;33m                 \u001b[1;32mreturn\u001b[0m \u001b[0mself\u001b[0m\u001b[1;33m.\u001b[0m\u001b[0m_engine\u001b[0m\u001b[1;33m.\u001b[0m\u001b[0mget_loc\u001b[0m\u001b[1;33m(\u001b[0m\u001b[0mcasted_key\u001b[0m\u001b[1;33m)\u001b[0m\u001b[1;33m\u001b[0m\u001b[1;33m\u001b[0m\u001b[0m\n\u001b[0m\u001b[0;32m   3081\u001b[0m             \u001b[1;32mexcept\u001b[0m \u001b[0mKeyError\u001b[0m \u001b[1;32mas\u001b[0m \u001b[0merr\u001b[0m\u001b[1;33m:\u001b[0m\u001b[1;33m\u001b[0m\u001b[1;33m\u001b[0m\u001b[0m\n",
      "\u001b[1;32mpandas\\_libs\\index.pyx\u001b[0m in \u001b[0;36mpandas._libs.index.IndexEngine.get_loc\u001b[1;34m()\u001b[0m\n",
      "\u001b[1;32mpandas\\_libs\\index.pyx\u001b[0m in \u001b[0;36mpandas._libs.index.IndexEngine.get_loc\u001b[1;34m()\u001b[0m\n",
      "\u001b[1;32mpandas\\_libs\\hashtable_class_helper.pxi\u001b[0m in \u001b[0;36mpandas._libs.hashtable.PyObjectHashTable.get_item\u001b[1;34m()\u001b[0m\n",
      "\u001b[1;32mpandas\\_libs\\hashtable_class_helper.pxi\u001b[0m in \u001b[0;36mpandas._libs.hashtable.PyObjectHashTable.get_item\u001b[1;34m()\u001b[0m\n",
      "\u001b[1;31mKeyError\u001b[0m: 'tags'",
      "\nThe above exception was the direct cause of the following exception:\n",
      "\u001b[1;31mKeyError\u001b[0m                                  Traceback (most recent call last)",
      "\u001b[1;32m<ipython-input-169-2f1b6808c394>\u001b[0m in \u001b[0;36m<module>\u001b[1;34m\u001b[0m\n\u001b[0;32m      8\u001b[0m \u001b[1;32mdel\u001b[0m \u001b[0mX\u001b[0m\u001b[1;33m[\u001b[0m\u001b[1;34m'text'\u001b[0m\u001b[1;33m]\u001b[0m\u001b[1;33m\u001b[0m\u001b[1;33m\u001b[0m\u001b[0m\n\u001b[0;32m      9\u001b[0m \u001b[1;32mdel\u001b[0m \u001b[0mX\u001b[0m\u001b[1;33m[\u001b[0m\u001b[1;34m'title'\u001b[0m\u001b[1;33m]\u001b[0m\u001b[1;33m\u001b[0m\u001b[1;33m\u001b[0m\u001b[0m\n\u001b[1;32m---> 10\u001b[1;33m \u001b[1;32mdel\u001b[0m \u001b[0mX\u001b[0m\u001b[1;33m[\u001b[0m\u001b[1;34m'tags'\u001b[0m\u001b[1;33m]\u001b[0m\u001b[1;33m\u001b[0m\u001b[1;33m\u001b[0m\u001b[0m\n\u001b[0m\u001b[0;32m     11\u001b[0m \u001b[1;33m\u001b[0m\u001b[0m\n\u001b[0;32m     12\u001b[0m \u001b[1;33m\u001b[0m\u001b[0m\n",
      "\u001b[1;32m~\\anaconda3\\lib\\site-packages\\pandas\\core\\generic.py\u001b[0m in \u001b[0;36m__delitem__\u001b[1;34m(self, key)\u001b[0m\n\u001b[0;32m   3964\u001b[0m             \u001b[1;31m# there was no match, this call should raise the appropriate\u001b[0m\u001b[1;33m\u001b[0m\u001b[1;33m\u001b[0m\u001b[1;33m\u001b[0m\u001b[0m\n\u001b[0;32m   3965\u001b[0m             \u001b[1;31m# exception:\u001b[0m\u001b[1;33m\u001b[0m\u001b[1;33m\u001b[0m\u001b[1;33m\u001b[0m\u001b[0m\n\u001b[1;32m-> 3966\u001b[1;33m             \u001b[0mloc\u001b[0m \u001b[1;33m=\u001b[0m \u001b[0mself\u001b[0m\u001b[1;33m.\u001b[0m\u001b[0maxes\u001b[0m\u001b[1;33m[\u001b[0m\u001b[1;33m-\u001b[0m\u001b[1;36m1\u001b[0m\u001b[1;33m]\u001b[0m\u001b[1;33m.\u001b[0m\u001b[0mget_loc\u001b[0m\u001b[1;33m(\u001b[0m\u001b[0mkey\u001b[0m\u001b[1;33m)\u001b[0m\u001b[1;33m\u001b[0m\u001b[1;33m\u001b[0m\u001b[0m\n\u001b[0m\u001b[0;32m   3967\u001b[0m             \u001b[0mself\u001b[0m\u001b[1;33m.\u001b[0m\u001b[0m_mgr\u001b[0m\u001b[1;33m.\u001b[0m\u001b[0midelete\u001b[0m\u001b[1;33m(\u001b[0m\u001b[0mloc\u001b[0m\u001b[1;33m)\u001b[0m\u001b[1;33m\u001b[0m\u001b[1;33m\u001b[0m\u001b[0m\n\u001b[0;32m   3968\u001b[0m \u001b[1;33m\u001b[0m\u001b[0m\n",
      "\u001b[1;32m~\\anaconda3\\lib\\site-packages\\pandas\\core\\indexes\\base.py\u001b[0m in \u001b[0;36mget_loc\u001b[1;34m(self, key, method, tolerance)\u001b[0m\n\u001b[0;32m   3080\u001b[0m                 \u001b[1;32mreturn\u001b[0m \u001b[0mself\u001b[0m\u001b[1;33m.\u001b[0m\u001b[0m_engine\u001b[0m\u001b[1;33m.\u001b[0m\u001b[0mget_loc\u001b[0m\u001b[1;33m(\u001b[0m\u001b[0mcasted_key\u001b[0m\u001b[1;33m)\u001b[0m\u001b[1;33m\u001b[0m\u001b[1;33m\u001b[0m\u001b[0m\n\u001b[0;32m   3081\u001b[0m             \u001b[1;32mexcept\u001b[0m \u001b[0mKeyError\u001b[0m \u001b[1;32mas\u001b[0m \u001b[0merr\u001b[0m\u001b[1;33m:\u001b[0m\u001b[1;33m\u001b[0m\u001b[1;33m\u001b[0m\u001b[0m\n\u001b[1;32m-> 3082\u001b[1;33m                 \u001b[1;32mraise\u001b[0m \u001b[0mKeyError\u001b[0m\u001b[1;33m(\u001b[0m\u001b[0mkey\u001b[0m\u001b[1;33m)\u001b[0m \u001b[1;32mfrom\u001b[0m \u001b[0merr\u001b[0m\u001b[1;33m\u001b[0m\u001b[1;33m\u001b[0m\u001b[0m\n\u001b[0m\u001b[0;32m   3083\u001b[0m \u001b[1;33m\u001b[0m\u001b[0m\n\u001b[0;32m   3084\u001b[0m         \u001b[1;32mif\u001b[0m \u001b[0mtolerance\u001b[0m \u001b[1;32mis\u001b[0m \u001b[1;32mnot\u001b[0m \u001b[1;32mNone\u001b[0m\u001b[1;33m:\u001b[0m\u001b[1;33m\u001b[0m\u001b[1;33m\u001b[0m\u001b[0m\n",
      "\u001b[1;31mKeyError\u001b[0m: 'tags'"
     ]
    }
   ],
   "source": [
    "#Loading Dataset\n",
    "\n",
    "train = pd.read_csv(\"out.csv\")\n",
    "\n",
    "\n",
    "X = train[:train.shape[0]]\n",
    "del X['label']\n",
    "del X['text']\n",
    "del X['title']\n",
    "\n",
    "\n",
    "y = train.label\n",
    "\n",
    "X_train, X_test, y_train, y_test = train_test_split(X, y, test_size = 0.33)\n"
   ]
  },
  {
   "cell_type": "code",
   "execution_count": null,
   "id": "200b5081-937a-49f8-aa06-20db8b0d947c",
   "metadata": {},
   "outputs": [],
   "source": [
    "X.columns"
   ]
  },
  {
   "cell_type": "code",
   "execution_count": null,
   "id": "6bf0850d-e88a-49de-b088-4827830c12d4",
   "metadata": {},
   "outputs": [],
   "source": [
    "pd.reset_option('^display.', silent=True)"
   ]
  },
  {
   "cell_type": "code",
   "execution_count": null,
   "id": "575cec6c-1e32-4e88-8e75-f9efbbcbf044",
   "metadata": {},
   "outputs": [],
   "source": [
    "X_train"
   ]
  },
  {
   "cell_type": "code",
   "execution_count": null,
   "id": "9edd6576-044f-4e6d-bd7c-0afa13aa08dc",
   "metadata": {},
   "outputs": [],
   "source": [
    "classifier = PassiveAggressiveClassifier(max_iter=50)\n",
    "\n",
    "## pipeline\n",
    "model = pipeline.Pipeline([(\"vectorizer_text\", vectorizer_text),\n",
    "                           ('vectorizer_title',vectorizer_title),\n",
    "                           (\"classifier\", classifier)])## train classifier\n",
    "model[\"classifier\"].fit(X_train, y_train)## test"
   ]
  },
  {
   "cell_type": "code",
   "execution_count": null,
   "id": "a74da6d3-c3c7-4f75-b38b-e1bc5105d423",
   "metadata": {},
   "outputs": [],
   "source": [
    "predicted = model[\"classifier\"].predict(X_test)"
   ]
  },
  {
   "cell_type": "code",
   "execution_count": null,
   "id": "35272b0a-6733-43af-b7da-2826c8d909b4",
   "metadata": {},
   "outputs": [],
   "source": [
    "from sklearn.metrics import accuracy_score\n",
    "\n",
    "accuracy_score(predicted, y_test)"
   ]
  },
  {
   "cell_type": "code",
   "execution_count": 129,
   "id": "d9dc1456-dfa0-4140-8de2-6cbd3fb4f962",
   "metadata": {},
   "outputs": [
    {
     "ename": "NameError",
     "evalue": "name 'DD' is not defined",
     "output_type": "error",
     "traceback": [
      "\u001b[1;31m---------------------------------------------------------------------------\u001b[0m",
      "\u001b[1;31mNameError\u001b[0m                                 Traceback (most recent call last)",
      "\u001b[1;32m<ipython-input-129-612d4afd9c06>\u001b[0m in \u001b[0;36m<module>\u001b[1;34m\u001b[0m\n\u001b[1;32m----> 1\u001b[1;33m \u001b[0mDD\u001b[0m\u001b[1;33m\u001b[0m\u001b[1;33m\u001b[0m\u001b[0m\n\u001b[0m",
      "\u001b[1;31mNameError\u001b[0m: name 'DD' is not defined"
     ]
    }
   ],
   "source": [
    "DD"
   ]
  },
  {
   "cell_type": "markdown",
   "id": "ded08de7-5b1c-4b61-9edb-a048ea8a167b",
   "metadata": {},
   "source": [
    "\n",
    "    Logistic Regression\n",
    "    k-Nearest Neighbors\n",
    "    Decision Trees\n",
    "    Support Vector Machine\n",
    "    Naive Bayes\n"
   ]
  }
 ],
 "metadata": {
  "kernelspec": {
   "display_name": "Python 3",
   "language": "python",
   "name": "python3"
  },
  "language_info": {
   "codemirror_mode": {
    "name": "ipython",
    "version": 3
   },
   "file_extension": ".py",
   "mimetype": "text/x-python",
   "name": "python",
   "nbconvert_exporter": "python",
   "pygments_lexer": "ipython3",
   "version": "3.8.8"
  }
 },
 "nbformat": 4,
 "nbformat_minor": 5
}
